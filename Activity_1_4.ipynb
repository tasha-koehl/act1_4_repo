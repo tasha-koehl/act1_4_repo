{
  "nbformat": 4,
  "nbformat_minor": 0,
  "metadata": {
    "colab": {
      "provenance": []
    },
    "kernelspec": {
      "name": "python3",
      "display_name": "Python 3"
    },
    "language_info": {
      "name": "python"
    }
  },
  "cells": [
    {
      "cell_type": "code",
      "execution_count": 14,
      "metadata": {
        "id": "VqRIkv_Vcrar"
      },
      "outputs": [],
      "source": [
        "triangle_area = lambda b, h: (h*0.5)*b"
      ]
    },
    {
      "cell_type": "code",
      "source": [
        "def triangle_area(b, h):\n",
        "    \"\"\"Finds the area of a triangle\n",
        "\n",
        "    Args:\n",
        "        b: a number, base\n",
        "        h: a number, height\n",
        "\n",
        "    Returns:\n",
        "        A number that is the product of the base and height divided by 2\n",
        "    \"\"\"\n",
        "    output = (h*0.5)*b\n",
        "    return output"
      ],
      "metadata": {
        "id": "kMwNaXksegJm"
      },
      "execution_count": 16,
      "outputs": []
    },
    {
      "cell_type": "code",
      "source": [
        "def test_triangle_area():\n",
        "  assert triangle_area(1, 2) == 1\n",
        "  assert triangle_area(2, 3) == 3\n",
        "  assert triangle_area(3, 4) == 6\n",
        "  assert triangle_area(4, 0) == 0\n",
        "  assert triangle_area(0, 5) == 0\n",
        "test_triangle_area()"
      ],
      "metadata": {
        "id": "A6GtEc03c1rd"
      },
      "execution_count": 19,
      "outputs": []
    },
    {
      "cell_type": "code",
      "source": [
        "help(triangle_area)"
      ],
      "metadata": {
        "colab": {
          "base_uri": "https://localhost:8080/"
        },
        "id": "4yEoGBNUe4xj",
        "outputId": "62e46638-0b10-4bed-9283-0983c9eb52c7"
      },
      "execution_count": 20,
      "outputs": [
        {
          "output_type": "stream",
          "name": "stdout",
          "text": [
            "Help on function triangle_area in module __main__:\n",
            "\n",
            "triangle_area(b, h)\n",
            "    Finds the area of a triangle\n",
            "    \n",
            "    Args:\n",
            "        b: a number, base\n",
            "        h: a number, height\n",
            "    \n",
            "    Returns:\n",
            "        A number that is the product of the base and height divided by 2\n",
            "\n"
          ]
        }
      ]
    }
  ]
}